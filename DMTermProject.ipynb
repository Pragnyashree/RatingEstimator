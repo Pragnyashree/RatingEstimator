{
 "cells": [
  {
   "cell_type": "markdown",
   "metadata": {},
   "source": [
    "<h3>REVIEWS RATING ESTIMATOR</h3>"
   ]
  },
  {
   "cell_type": "markdown",
   "metadata": {},
   "source": [
    "<p> This is a project that estimates ratings based on customer reviews.The purpose of such an application is to help identify ratings for reviews where the user ratings are missing. This rating could be used to further analyze the success rate of your product.</p>\n",
    "<p>The dataset used for this project is a boardgamegeek review dataset available at Kaggle here: \n",
    "    <a href=\"https://www.kaggle.com/jvanelteren/boardgamegeek-reviews\">Dataset</a> This model will also work for other kinds of dataset for e.g. Movie review dataset for IMDB, Restaurant review dataset etc. </p>\n",
    "    <p>Naive Bayes model is implemented with bag of words as the final training model.The various steps involved in the creation of the model are described in detail over the ipynb.</p>\n",
    "    "
   ]
  },
  {
   "cell_type": "markdown",
   "metadata": {},
   "source": [
    "<h3> Reading the data </h3>\n",
    "<p>The first step is to read the data and convert it to a pandas dataframe</p>"
   ]
  },
  {
   "cell_type": "code",
   "execution_count": 2,
   "metadata": {},
   "outputs": [],
   "source": [
    "import pandas as pd\n",
    "\n",
    "df = pd.read_csv('D:/UTA/Fall-2020/DM/TermProject/archive/bgg-15m-reviews.csv')\n",
    "del df['Unnamed: 0']\n"
   ]
  },
  {
   "cell_type": "markdown",
   "metadata": {},
   "source": [
    "<h4>Dropping rows that have missing comments(NaN)</h4>\n",
    "\n",
    "<p>This step is essential because we have to get a dataset that contains reviews in order to train our model. So removal of ratings without review is executed.</p>"
   ]
  },
  {
   "cell_type": "code",
   "execution_count": 3,
   "metadata": {},
   "outputs": [
    {
     "data": {
      "text/html": [
       "<div>\n",
       "<style scoped>\n",
       "    .dataframe tbody tr th:only-of-type {\n",
       "        vertical-align: middle;\n",
       "    }\n",
       "\n",
       "    .dataframe tbody tr th {\n",
       "        vertical-align: top;\n",
       "    }\n",
       "\n",
       "    .dataframe thead th {\n",
       "        text-align: right;\n",
       "    }\n",
       "</style>\n",
       "<table border=\"1\" class=\"dataframe\">\n",
       "  <thead>\n",
       "    <tr style=\"text-align: right;\">\n",
       "      <th></th>\n",
       "      <th>user</th>\n",
       "      <th>rating</th>\n",
       "      <th>comment</th>\n",
       "      <th>ID</th>\n",
       "      <th>name</th>\n",
       "    </tr>\n",
       "  </thead>\n",
       "  <tbody>\n",
       "    <tr>\n",
       "      <th>0</th>\n",
       "      <td>mitnachtKAUBO-I</td>\n",
       "      <td>10.0</td>\n",
       "      <td>Hands down my favorite new game of BGG CON 200...</td>\n",
       "      <td>30549</td>\n",
       "      <td>Pandemic</td>\n",
       "    </tr>\n",
       "    <tr>\n",
       "      <th>1</th>\n",
       "      <td>avlawn</td>\n",
       "      <td>10.0</td>\n",
       "      <td>I tend to either love or easily tire of co-op ...</td>\n",
       "      <td>30549</td>\n",
       "      <td>Pandemic</td>\n",
       "    </tr>\n",
       "    <tr>\n",
       "      <th>2</th>\n",
       "      <td>Mease19</td>\n",
       "      <td>10.0</td>\n",
       "      <td>This is an amazing co-op game.  I play mostly ...</td>\n",
       "      <td>30549</td>\n",
       "      <td>Pandemic</td>\n",
       "    </tr>\n",
       "    <tr>\n",
       "      <th>3</th>\n",
       "      <td>cfarrell</td>\n",
       "      <td>10.0</td>\n",
       "      <td>Hey! I can finally rate this game I've been pl...</td>\n",
       "      <td>30549</td>\n",
       "      <td>Pandemic</td>\n",
       "    </tr>\n",
       "    <tr>\n",
       "      <th>4</th>\n",
       "      <td>gregd</td>\n",
       "      <td>10.0</td>\n",
       "      <td>Love it- great fun with my son. 2 plays so far...</td>\n",
       "      <td>30549</td>\n",
       "      <td>Pandemic</td>\n",
       "    </tr>\n",
       "    <tr>\n",
       "      <th>...</th>\n",
       "      <td>...</td>\n",
       "      <td>...</td>\n",
       "      <td>...</td>\n",
       "      <td>...</td>\n",
       "      <td>...</td>\n",
       "    </tr>\n",
       "    <tr>\n",
       "      <th>2995018</th>\n",
       "      <td>ChiefMe</td>\n",
       "      <td>10.0</td>\n",
       "      <td>KS Collector's Bundle with a friend of mine</td>\n",
       "      <td>281515</td>\n",
       "      <td>Company of Heroes</td>\n",
       "    </tr>\n",
       "    <tr>\n",
       "      <th>2995019</th>\n",
       "      <td>Mukaz</td>\n",
       "      <td>10.0</td>\n",
       "      <td>Belekokio Gerumo...</td>\n",
       "      <td>281515</td>\n",
       "      <td>Company of Heroes</td>\n",
       "    </tr>\n",
       "    <tr>\n",
       "      <th>2995020</th>\n",
       "      <td>jpaquila</td>\n",
       "      <td>10.0</td>\n",
       "      <td>Excelente!! lo mejor que probé.</td>\n",
       "      <td>281515</td>\n",
       "      <td>Company of Heroes</td>\n",
       "    </tr>\n",
       "    <tr>\n",
       "      <th>2995021</th>\n",
       "      <td>Fafhrd65</td>\n",
       "      <td>8.0</td>\n",
       "      <td>Turn based preview looks very promising. The g...</td>\n",
       "      <td>281515</td>\n",
       "      <td>Company of Heroes</td>\n",
       "    </tr>\n",
       "    <tr>\n",
       "      <th>2995022</th>\n",
       "      <td>PlatinumOh</td>\n",
       "      <td>8.0</td>\n",
       "      <td>KS</td>\n",
       "      <td>281515</td>\n",
       "      <td>Company of Heroes</td>\n",
       "    </tr>\n",
       "  </tbody>\n",
       "</table>\n",
       "<p>2995023 rows × 5 columns</p>\n",
       "</div>"
      ],
      "text/plain": [
       "                    user  rating  \\\n",
       "0        mitnachtKAUBO-I    10.0   \n",
       "1                 avlawn    10.0   \n",
       "2                Mease19    10.0   \n",
       "3               cfarrell    10.0   \n",
       "4                  gregd    10.0   \n",
       "...                  ...     ...   \n",
       "2995018          ChiefMe    10.0   \n",
       "2995019            Mukaz    10.0   \n",
       "2995020         jpaquila    10.0   \n",
       "2995021         Fafhrd65     8.0   \n",
       "2995022       PlatinumOh     8.0   \n",
       "\n",
       "                                                   comment      ID  \\\n",
       "0        Hands down my favorite new game of BGG CON 200...   30549   \n",
       "1        I tend to either love or easily tire of co-op ...   30549   \n",
       "2        This is an amazing co-op game.  I play mostly ...   30549   \n",
       "3        Hey! I can finally rate this game I've been pl...   30549   \n",
       "4        Love it- great fun with my son. 2 plays so far...   30549   \n",
       "...                                                    ...     ...   \n",
       "2995018        KS Collector's Bundle with a friend of mine  281515   \n",
       "2995019                                Belekokio Gerumo...  281515   \n",
       "2995020                    Excelente!! lo mejor que probé.  281515   \n",
       "2995021  Turn based preview looks very promising. The g...  281515   \n",
       "2995022                                                 KS  281515   \n",
       "\n",
       "                      name  \n",
       "0                 Pandemic  \n",
       "1                 Pandemic  \n",
       "2                 Pandemic  \n",
       "3                 Pandemic  \n",
       "4                 Pandemic  \n",
       "...                    ...  \n",
       "2995018  Company of Heroes  \n",
       "2995019  Company of Heroes  \n",
       "2995020  Company of Heroes  \n",
       "2995021  Company of Heroes  \n",
       "2995022  Company of Heroes  \n",
       "\n",
       "[2995023 rows x 5 columns]"
      ]
     },
     "execution_count": 3,
     "metadata": {},
     "output_type": "execute_result"
    }
   ],
   "source": [
    "#Dropping rows with missing reviews \n",
    "temp_dataset = df.dropna().reset_index(drop=True)\n",
    "temp_dataset\n"
   ]
  },
  {
   "cell_type": "markdown",
   "metadata": {},
   "source": [
    "<p>Use the 'Reviews' and the corresponding 'Rating' columns as the dataset</p>"
   ]
  },
  {
   "cell_type": "code",
   "execution_count": 4,
   "metadata": {},
   "outputs": [
    {
     "data": {
      "text/html": [
       "<div>\n",
       "<style scoped>\n",
       "    .dataframe tbody tr th:only-of-type {\n",
       "        vertical-align: middle;\n",
       "    }\n",
       "\n",
       "    .dataframe tbody tr th {\n",
       "        vertical-align: top;\n",
       "    }\n",
       "\n",
       "    .dataframe thead th {\n",
       "        text-align: right;\n",
       "    }\n",
       "</style>\n",
       "<table border=\"1\" class=\"dataframe\">\n",
       "  <thead>\n",
       "    <tr style=\"text-align: right;\">\n",
       "      <th></th>\n",
       "      <th>Reviews</th>\n",
       "      <th>Rating</th>\n",
       "    </tr>\n",
       "  </thead>\n",
       "  <tbody>\n",
       "    <tr>\n",
       "      <th>0</th>\n",
       "      <td>Hands down my favorite new game of BGG CON 200...</td>\n",
       "      <td>10.0</td>\n",
       "    </tr>\n",
       "    <tr>\n",
       "      <th>1</th>\n",
       "      <td>I tend to either love or easily tire of co-op ...</td>\n",
       "      <td>10.0</td>\n",
       "    </tr>\n",
       "    <tr>\n",
       "      <th>2</th>\n",
       "      <td>This is an amazing co-op game.  I play mostly ...</td>\n",
       "      <td>10.0</td>\n",
       "    </tr>\n",
       "    <tr>\n",
       "      <th>3</th>\n",
       "      <td>Hey! I can finally rate this game I've been pl...</td>\n",
       "      <td>10.0</td>\n",
       "    </tr>\n",
       "    <tr>\n",
       "      <th>4</th>\n",
       "      <td>Love it- great fun with my son. 2 plays so far...</td>\n",
       "      <td>10.0</td>\n",
       "    </tr>\n",
       "    <tr>\n",
       "      <th>...</th>\n",
       "      <td>...</td>\n",
       "      <td>...</td>\n",
       "    </tr>\n",
       "    <tr>\n",
       "      <th>2995018</th>\n",
       "      <td>KS Collector's Bundle with a friend of mine</td>\n",
       "      <td>10.0</td>\n",
       "    </tr>\n",
       "    <tr>\n",
       "      <th>2995019</th>\n",
       "      <td>Belekokio Gerumo...</td>\n",
       "      <td>10.0</td>\n",
       "    </tr>\n",
       "    <tr>\n",
       "      <th>2995020</th>\n",
       "      <td>Excelente!! lo mejor que probé.</td>\n",
       "      <td>10.0</td>\n",
       "    </tr>\n",
       "    <tr>\n",
       "      <th>2995021</th>\n",
       "      <td>Turn based preview looks very promising. The g...</td>\n",
       "      <td>8.0</td>\n",
       "    </tr>\n",
       "    <tr>\n",
       "      <th>2995022</th>\n",
       "      <td>KS</td>\n",
       "      <td>8.0</td>\n",
       "    </tr>\n",
       "  </tbody>\n",
       "</table>\n",
       "<p>2995023 rows × 2 columns</p>\n",
       "</div>"
      ],
      "text/plain": [
       "                                                   Reviews  Rating\n",
       "0        Hands down my favorite new game of BGG CON 200...    10.0\n",
       "1        I tend to either love or easily tire of co-op ...    10.0\n",
       "2        This is an amazing co-op game.  I play mostly ...    10.0\n",
       "3        Hey! I can finally rate this game I've been pl...    10.0\n",
       "4        Love it- great fun with my son. 2 plays so far...    10.0\n",
       "...                                                    ...     ...\n",
       "2995018        KS Collector's Bundle with a friend of mine    10.0\n",
       "2995019                                Belekokio Gerumo...    10.0\n",
       "2995020                    Excelente!! lo mejor que probé.    10.0\n",
       "2995021  Turn based preview looks very promising. The g...     8.0\n",
       "2995022                                                 KS     8.0\n",
       "\n",
       "[2995023 rows x 2 columns]"
      ]
     },
     "execution_count": 4,
     "metadata": {},
     "output_type": "execute_result"
    }
   ],
   "source": [
    "dataset = temp_dataset[['comment', 'rating']].copy()\n",
    "dataset.columns = ['Reviews','Rating']\n",
    "dataset"
   ]
  },
  {
   "cell_type": "markdown",
   "metadata": {},
   "source": [
    "<h3> PREPROCESSING </h3>\n",
    "\n",
    "<p>For preprocessing and cleaning the data in the reviews column, NLTK libraries are used for removing punctuations, stopwords, numbers and lemmatization of the filtered reviews.</p>"
   ]
  },
  {
   "cell_type": "code",
   "execution_count": 4,
   "metadata": {},
   "outputs": [],
   "source": [
    "import nltk\n",
    "import re\n",
    "from nltk.stem import WordNetLemmatizer\n",
    "from nltk.tokenize import RegexpTokenizer\n",
    "from nltk.corpus import stopwords\n",
    "\n",
    "def sentence_tokenize(text):\n",
    "    sentences = nltk.sent_tokenize(text)\n",
    "    return sentences\n",
    "    \n",
    "\n",
    "def remove_html_tags(text):\n",
    "    pattern = re.compile('<.*?>')\n",
    "    new_text = re.sub(pattern, '', text)\n",
    "    return new_text\n",
    "\n",
    "def remove_numbers(text):\n",
    "    text = re.sub('\\w*\\d\\w*', \"\",text)\n",
    "    return text\n",
    "\n",
    "def word_tokenize(text):\n",
    "    #remove punctuations\n",
    "    tokeniser = nltk.tokenize.RegexpTokenizer(r'\\w+')\n",
    "    tokens = (tokeniser.tokenize(text))\n",
    "    return tokens\n",
    "    \n",
    "def lemmatization(text):\n",
    "    lemmatiser = WordNetLemmatizer()\n",
    "    lemmas = [lemmatiser.lemmatize(token, pos='v') for token in text]\n",
    "    return lemmas\n",
    "    \n",
    "def remove_stopwords(text):\n",
    "    stopwords = nltk.corpus.stopwords.words('english')\n",
    "    new_text = [word for word in text if word not in stopwords]\n",
    "    return new_text\n",
    "\n",
    "def list_to_string(str2):  \n",
    "    str1 = \" \"   \n",
    "    return (str1.join(str2)) \n",
    "    "
   ]
  },
  {
   "cell_type": "markdown",
   "metadata": {},
   "source": [
    "<h4>At this step changing the words in the reviews to lowercase, removing of certain patterns and numbers is performed</h4>"
   ]
  },
  {
   "cell_type": "code",
   "execution_count": 5,
   "metadata": {},
   "outputs": [
    {
     "data": {
      "text/html": [
       "<div>\n",
       "<style scoped>\n",
       "    .dataframe tbody tr th:only-of-type {\n",
       "        vertical-align: middle;\n",
       "    }\n",
       "\n",
       "    .dataframe tbody tr th {\n",
       "        vertical-align: top;\n",
       "    }\n",
       "\n",
       "    .dataframe thead th {\n",
       "        text-align: right;\n",
       "    }\n",
       "</style>\n",
       "<table border=\"1\" class=\"dataframe\">\n",
       "  <thead>\n",
       "    <tr style=\"text-align: right;\">\n",
       "      <th></th>\n",
       "      <th>Reviews</th>\n",
       "    </tr>\n",
       "  </thead>\n",
       "  <tbody>\n",
       "    <tr>\n",
       "      <th>0</th>\n",
       "      <td>hands down my favorite new game of bgg con .  ...</td>\n",
       "    </tr>\n",
       "    <tr>\n",
       "      <th>1</th>\n",
       "      <td>i tend to either love or easily tire of co-op ...</td>\n",
       "    </tr>\n",
       "    <tr>\n",
       "      <th>2</th>\n",
       "      <td>this is an amazing co-op game.  i play mostly ...</td>\n",
       "    </tr>\n",
       "    <tr>\n",
       "      <th>3</th>\n",
       "      <td>hey! i can finally rate this game i've been pl...</td>\n",
       "    </tr>\n",
       "    <tr>\n",
       "      <th>4</th>\n",
       "      <td>love it- great fun with my son.  plays so far ...</td>\n",
       "    </tr>\n",
       "    <tr>\n",
       "      <th>...</th>\n",
       "      <td>...</td>\n",
       "    </tr>\n",
       "    <tr>\n",
       "      <th>2995018</th>\n",
       "      <td>ks collector's bundle with a friend of mine</td>\n",
       "    </tr>\n",
       "    <tr>\n",
       "      <th>2995019</th>\n",
       "      <td>belekokio gerumo...</td>\n",
       "    </tr>\n",
       "    <tr>\n",
       "      <th>2995020</th>\n",
       "      <td>excelente!! lo mejor que probé.</td>\n",
       "    </tr>\n",
       "    <tr>\n",
       "      <th>2995021</th>\n",
       "      <td>turn based preview looks very promising. the g...</td>\n",
       "    </tr>\n",
       "    <tr>\n",
       "      <th>2995022</th>\n",
       "      <td>ks</td>\n",
       "    </tr>\n",
       "  </tbody>\n",
       "</table>\n",
       "<p>2995023 rows × 1 columns</p>\n",
       "</div>"
      ],
      "text/plain": [
       "                                                   Reviews\n",
       "0        hands down my favorite new game of bgg con .  ...\n",
       "1        i tend to either love or easily tire of co-op ...\n",
       "2        this is an amazing co-op game.  i play mostly ...\n",
       "3        hey! i can finally rate this game i've been pl...\n",
       "4        love it- great fun with my son.  plays so far ...\n",
       "...                                                    ...\n",
       "2995018        ks collector's bundle with a friend of mine\n",
       "2995019                                belekokio gerumo...\n",
       "2995020                    excelente!! lo mejor que probé.\n",
       "2995021  turn based preview looks very promising. the g...\n",
       "2995022                                                 ks\n",
       "\n",
       "[2995023 rows x 1 columns]"
      ]
     },
     "execution_count": 5,
     "metadata": {},
     "output_type": "execute_result"
    }
   ],
   "source": [
    "lower_case_dataset = pd.DataFrame(dataset.Reviews.apply(lambda x: x.lower()))\n",
    "reviews_without_htmltags_df =  pd.DataFrame(lower_case_dataset.Reviews.apply(lambda x: remove_html_tags(x)))\n",
    "reviews_without_htmltags_df =  pd.DataFrame(reviews_without_htmltags_df.Reviews.apply(lambda x: remove_numbers(x)))\n",
    "reviews_without_htmltags_df"
   ]
  },
  {
   "cell_type": "markdown",
   "metadata": {},
   "source": [
    "<h4>Here sentence tokenization,word tokenization and removal of stop words is performed</h4>"
   ]
  },
  {
   "cell_type": "code",
   "execution_count": 6,
   "metadata": {},
   "outputs": [
    {
     "data": {
      "text/html": [
       "<div>\n",
       "<style scoped>\n",
       "    .dataframe tbody tr th:only-of-type {\n",
       "        vertical-align: middle;\n",
       "    }\n",
       "\n",
       "    .dataframe tbody tr th {\n",
       "        vertical-align: top;\n",
       "    }\n",
       "\n",
       "    .dataframe thead th {\n",
       "        text-align: right;\n",
       "    }\n",
       "</style>\n",
       "<table border=\"1\" class=\"dataframe\">\n",
       "  <thead>\n",
       "    <tr style=\"text-align: right;\">\n",
       "      <th></th>\n",
       "      <th>Reviews</th>\n",
       "      <th>Reviews_sentence_tokenized</th>\n",
       "      <th>Reviews_word_tokenized</th>\n",
       "      <th>Reviews_without_stopwords</th>\n",
       "    </tr>\n",
       "  </thead>\n",
       "  <tbody>\n",
       "    <tr>\n",
       "      <th>0</th>\n",
       "      <td>hands down my favorite new game of bgg con .  ...</td>\n",
       "      <td>[hands down my favorite new game of bgg con .,...</td>\n",
       "      <td>[hands, down, my, favorite, new, game, of, bgg...</td>\n",
       "      <td>[hands, favorite, new, game, bgg, con, played,...</td>\n",
       "    </tr>\n",
       "    <tr>\n",
       "      <th>1</th>\n",
       "      <td>i tend to either love or easily tire of co-op ...</td>\n",
       "      <td>[i tend to either love or easily tire of co-op...</td>\n",
       "      <td>[i, tend, to, either, love, or, easily, tire, ...</td>\n",
       "      <td>[tend, either, love, easily, tire, co, op, gam...</td>\n",
       "    </tr>\n",
       "    <tr>\n",
       "      <th>2</th>\n",
       "      <td>this is an amazing co-op game.  i play mostly ...</td>\n",
       "      <td>[this is an amazing co-op game., i play mostly...</td>\n",
       "      <td>[this, is, an, amazing, co, op, game, i, play,...</td>\n",
       "      <td>[amazing, co, op, game, play, mostly, wife, ga...</td>\n",
       "    </tr>\n",
       "    <tr>\n",
       "      <th>3</th>\n",
       "      <td>hey! i can finally rate this game i've been pl...</td>\n",
       "      <td>[hey!, i can finally rate this game i've been ...</td>\n",
       "      <td>[hey, i, can, finally, rate, this, game, i, ve...</td>\n",
       "      <td>[hey, finally, rate, game, playtesting, couple...</td>\n",
       "    </tr>\n",
       "    <tr>\n",
       "      <th>4</th>\n",
       "      <td>love it- great fun with my son.  plays so far ...</td>\n",
       "      <td>[love it- great fun with my son., plays so far...</td>\n",
       "      <td>[love, it, great, fun, with, my, son, plays, s...</td>\n",
       "      <td>[love, great, fun, son, plays, far, looking, f...</td>\n",
       "    </tr>\n",
       "    <tr>\n",
       "      <th>...</th>\n",
       "      <td>...</td>\n",
       "      <td>...</td>\n",
       "      <td>...</td>\n",
       "      <td>...</td>\n",
       "    </tr>\n",
       "    <tr>\n",
       "      <th>2995018</th>\n",
       "      <td>ks collector's bundle with a friend of mine</td>\n",
       "      <td>[ks collector's bundle with a friend of mine]</td>\n",
       "      <td>[ks, collector, s, bundle, with, a, friend, of...</td>\n",
       "      <td>[ks, collector, bundle, friend, mine]</td>\n",
       "    </tr>\n",
       "    <tr>\n",
       "      <th>2995019</th>\n",
       "      <td>belekokio gerumo...</td>\n",
       "      <td>[belekokio gerumo...]</td>\n",
       "      <td>[belekokio, gerumo]</td>\n",
       "      <td>[belekokio, gerumo]</td>\n",
       "    </tr>\n",
       "    <tr>\n",
       "      <th>2995020</th>\n",
       "      <td>excelente!! lo mejor que probé.</td>\n",
       "      <td>[excelente!!, lo mejor que probé.]</td>\n",
       "      <td>[excelente, lo, mejor, que, probé]</td>\n",
       "      <td>[excelente, lo, mejor, que, probé]</td>\n",
       "    </tr>\n",
       "    <tr>\n",
       "      <th>2995021</th>\n",
       "      <td>turn based preview looks very promising. the g...</td>\n",
       "      <td>[turn based preview looks very promising., the...</td>\n",
       "      <td>[turn, based, preview, looks, very, promising,...</td>\n",
       "      <td>[turn, based, preview, looks, promising, game,...</td>\n",
       "    </tr>\n",
       "    <tr>\n",
       "      <th>2995022</th>\n",
       "      <td>ks</td>\n",
       "      <td>[ks]</td>\n",
       "      <td>[ks]</td>\n",
       "      <td>[ks]</td>\n",
       "    </tr>\n",
       "  </tbody>\n",
       "</table>\n",
       "<p>2995023 rows × 4 columns</p>\n",
       "</div>"
      ],
      "text/plain": [
       "                                                   Reviews  \\\n",
       "0        hands down my favorite new game of bgg con .  ...   \n",
       "1        i tend to either love or easily tire of co-op ...   \n",
       "2        this is an amazing co-op game.  i play mostly ...   \n",
       "3        hey! i can finally rate this game i've been pl...   \n",
       "4        love it- great fun with my son.  plays so far ...   \n",
       "...                                                    ...   \n",
       "2995018        ks collector's bundle with a friend of mine   \n",
       "2995019                                belekokio gerumo...   \n",
       "2995020                    excelente!! lo mejor que probé.   \n",
       "2995021  turn based preview looks very promising. the g...   \n",
       "2995022                                                 ks   \n",
       "\n",
       "                                Reviews_sentence_tokenized  \\\n",
       "0        [hands down my favorite new game of bgg con .,...   \n",
       "1        [i tend to either love or easily tire of co-op...   \n",
       "2        [this is an amazing co-op game., i play mostly...   \n",
       "3        [hey!, i can finally rate this game i've been ...   \n",
       "4        [love it- great fun with my son., plays so far...   \n",
       "...                                                    ...   \n",
       "2995018      [ks collector's bundle with a friend of mine]   \n",
       "2995019                              [belekokio gerumo...]   \n",
       "2995020                 [excelente!!, lo mejor que probé.]   \n",
       "2995021  [turn based preview looks very promising., the...   \n",
       "2995022                                               [ks]   \n",
       "\n",
       "                                    Reviews_word_tokenized  \\\n",
       "0        [hands, down, my, favorite, new, game, of, bgg...   \n",
       "1        [i, tend, to, either, love, or, easily, tire, ...   \n",
       "2        [this, is, an, amazing, co, op, game, i, play,...   \n",
       "3        [hey, i, can, finally, rate, this, game, i, ve...   \n",
       "4        [love, it, great, fun, with, my, son, plays, s...   \n",
       "...                                                    ...   \n",
       "2995018  [ks, collector, s, bundle, with, a, friend, of...   \n",
       "2995019                                [belekokio, gerumo]   \n",
       "2995020                 [excelente, lo, mejor, que, probé]   \n",
       "2995021  [turn, based, preview, looks, very, promising,...   \n",
       "2995022                                               [ks]   \n",
       "\n",
       "                                 Reviews_without_stopwords  \n",
       "0        [hands, favorite, new, game, bgg, con, played,...  \n",
       "1        [tend, either, love, easily, tire, co, op, gam...  \n",
       "2        [amazing, co, op, game, play, mostly, wife, ga...  \n",
       "3        [hey, finally, rate, game, playtesting, couple...  \n",
       "4        [love, great, fun, son, plays, far, looking, f...  \n",
       "...                                                    ...  \n",
       "2995018              [ks, collector, bundle, friend, mine]  \n",
       "2995019                                [belekokio, gerumo]  \n",
       "2995020                 [excelente, lo, mejor, que, probé]  \n",
       "2995021  [turn, based, preview, looks, promising, game,...  \n",
       "2995022                                               [ks]  \n",
       "\n",
       "[2995023 rows x 4 columns]"
      ]
     },
     "execution_count": 6,
     "metadata": {},
     "output_type": "execute_result"
    }
   ],
   "source": [
    "reviews_without_htmltags_df['Reviews_sentence_tokenized'] = reviews_without_htmltags_df['Reviews']\n",
    "reviews_without_htmltags_df['Reviews_sentence_tokenized'] = reviews_without_htmltags_df['Reviews'].apply(lambda x: sentence_tokenize(x))\n",
    "\n",
    "#word tokenizing\n",
    "reviews_without_htmltags_df['Reviews_word_tokenized'] = reviews_without_htmltags_df['Reviews']\n",
    "reviews_without_htmltags_df['Reviews_word_tokenized'] = reviews_without_htmltags_df['Reviews'].apply(lambda x: word_tokenize(x))\n",
    "\n",
    "#removing stop words\n",
    "reviews_without_htmltags_df['Reviews_without_stopwords'] = reviews_without_htmltags_df['Reviews_word_tokenized'].apply(lambda x: remove_stopwords(x))\n",
    "reviews_without_htmltags_df"
   ]
  },
  {
   "cell_type": "markdown",
   "metadata": {},
   "source": [
    "<h4>Lemmatization</h4>\n",
    "<p>Lemmatization usually refers to doing things properly with the use of a vocabulary and morphological analysis of words, normally aiming to remove inflectional endings only and to return the base or dictionary form of a word, which is known as the lemma . If confronted with the token saw, stemming might return just s, whereas lemmatization would attempt to return either see or saw depending on whether the use of the token was as a verb or a noun. The two may also differ in that stemming most commonly collapses derivationally related words, whereas lemmatization commonly only collapses the different inflectional forms of a lemma. </p>"
   ]
  },
  {
   "cell_type": "code",
   "execution_count": 7,
   "metadata": {},
   "outputs": [],
   "source": [
    "#performing lemmatization as a preprocessing step\n",
    "reviews_lemmatized = pd.DataFrame(reviews_without_htmltags_df['Reviews_without_stopwords'].apply(lambda x: lemmatization(x)))"
   ]
  },
  {
   "cell_type": "code",
   "execution_count": 8,
   "metadata": {},
   "outputs": [
    {
     "data": {
      "text/html": [
       "<div>\n",
       "<style scoped>\n",
       "    .dataframe tbody tr th:only-of-type {\n",
       "        vertical-align: middle;\n",
       "    }\n",
       "\n",
       "    .dataframe tbody tr th {\n",
       "        vertical-align: top;\n",
       "    }\n",
       "\n",
       "    .dataframe thead th {\n",
       "        text-align: right;\n",
       "    }\n",
       "</style>\n",
       "<table border=\"1\" class=\"dataframe\">\n",
       "  <thead>\n",
       "    <tr style=\"text-align: right;\">\n",
       "      <th></th>\n",
       "      <th>Reviews</th>\n",
       "    </tr>\n",
       "  </thead>\n",
       "  <tbody>\n",
       "    <tr>\n",
       "      <th>0</th>\n",
       "      <td>[hand, favorite, new, game, bgg, con, play, ti...</td>\n",
       "    </tr>\n",
       "    <tr>\n",
       "      <th>1</th>\n",
       "      <td>[tend, either, love, easily, tire, co, op, gam...</td>\n",
       "    </tr>\n",
       "    <tr>\n",
       "      <th>2</th>\n",
       "      <td>[amaze, co, op, game, play, mostly, wife, game...</td>\n",
       "    </tr>\n",
       "    <tr>\n",
       "      <th>3</th>\n",
       "      <td>[hey, finally, rate, game, playtesting, couple...</td>\n",
       "    </tr>\n",
       "    <tr>\n",
       "      <th>4</th>\n",
       "      <td>[love, great, fun, son, play, far, look, forward]</td>\n",
       "    </tr>\n",
       "    <tr>\n",
       "      <th>...</th>\n",
       "      <td>...</td>\n",
       "    </tr>\n",
       "    <tr>\n",
       "      <th>2995018</th>\n",
       "      <td>[ks, collector, bundle, friend, mine]</td>\n",
       "    </tr>\n",
       "    <tr>\n",
       "      <th>2995019</th>\n",
       "      <td>[belekokio, gerumo]</td>\n",
       "    </tr>\n",
       "    <tr>\n",
       "      <th>2995020</th>\n",
       "      <td>[excelente, lo, mejor, que, probé]</td>\n",
       "    </tr>\n",
       "    <tr>\n",
       "      <th>2995021</th>\n",
       "      <td>[turn, base, preview, look, promise, game, pre...</td>\n",
       "    </tr>\n",
       "    <tr>\n",
       "      <th>2995022</th>\n",
       "      <td>[ks]</td>\n",
       "    </tr>\n",
       "  </tbody>\n",
       "</table>\n",
       "<p>2995023 rows × 1 columns</p>\n",
       "</div>"
      ],
      "text/plain": [
       "                                                   Reviews\n",
       "0        [hand, favorite, new, game, bgg, con, play, ti...\n",
       "1        [tend, either, love, easily, tire, co, op, gam...\n",
       "2        [amaze, co, op, game, play, mostly, wife, game...\n",
       "3        [hey, finally, rate, game, playtesting, couple...\n",
       "4        [love, great, fun, son, play, far, look, forward]\n",
       "...                                                    ...\n",
       "2995018              [ks, collector, bundle, friend, mine]\n",
       "2995019                                [belekokio, gerumo]\n",
       "2995020                 [excelente, lo, mejor, que, probé]\n",
       "2995021  [turn, base, preview, look, promise, game, pre...\n",
       "2995022                                               [ks]\n",
       "\n",
       "[2995023 rows x 1 columns]"
      ]
     },
     "execution_count": 8,
     "metadata": {},
     "output_type": "execute_result"
    }
   ],
   "source": [
    "reviews_lemmatized.columns = ['Reviews']\n",
    "reviews_lemmatized"
   ]
  },
  {
   "cell_type": "code",
   "execution_count": 9,
   "metadata": {},
   "outputs": [],
   "source": [
    "dataset['Reviews'] = reviews_lemmatized['Reviews'].apply(lambda x: list_to_string(x))\n",
    "#dataset['Reviews'] = reviews_lemmatized"
   ]
  },
  {
   "cell_type": "markdown",
   "metadata": {},
   "source": [
    "<h4>Processed Dataset</h4>\n",
    "<p>The ratings are rounded to the nearest integer to get a rating in the scale of 1-10. This cleaned and pre-processed dataset is then used for training and testing our algorithm</p>"
   ]
  },
  {
   "cell_type": "code",
   "execution_count": 5,
   "metadata": {},
   "outputs": [
    {
     "data": {
      "text/html": [
       "<div>\n",
       "<style scoped>\n",
       "    .dataframe tbody tr th:only-of-type {\n",
       "        vertical-align: middle;\n",
       "    }\n",
       "\n",
       "    .dataframe tbody tr th {\n",
       "        vertical-align: top;\n",
       "    }\n",
       "\n",
       "    .dataframe thead th {\n",
       "        text-align: right;\n",
       "    }\n",
       "</style>\n",
       "<table border=\"1\" class=\"dataframe\">\n",
       "  <thead>\n",
       "    <tr style=\"text-align: right;\">\n",
       "      <th></th>\n",
       "      <th>Reviews</th>\n",
       "      <th>Rating</th>\n",
       "    </tr>\n",
       "  </thead>\n",
       "  <tbody>\n",
       "    <tr>\n",
       "      <th>0</th>\n",
       "      <td>Hands down my favorite new game of BGG CON 200...</td>\n",
       "      <td>10</td>\n",
       "    </tr>\n",
       "    <tr>\n",
       "      <th>1</th>\n",
       "      <td>I tend to either love or easily tire of co-op ...</td>\n",
       "      <td>10</td>\n",
       "    </tr>\n",
       "    <tr>\n",
       "      <th>2</th>\n",
       "      <td>This is an amazing co-op game.  I play mostly ...</td>\n",
       "      <td>10</td>\n",
       "    </tr>\n",
       "    <tr>\n",
       "      <th>3</th>\n",
       "      <td>Hey! I can finally rate this game I've been pl...</td>\n",
       "      <td>10</td>\n",
       "    </tr>\n",
       "    <tr>\n",
       "      <th>4</th>\n",
       "      <td>Love it- great fun with my son. 2 plays so far...</td>\n",
       "      <td>10</td>\n",
       "    </tr>\n",
       "    <tr>\n",
       "      <th>...</th>\n",
       "      <td>...</td>\n",
       "      <td>...</td>\n",
       "    </tr>\n",
       "    <tr>\n",
       "      <th>2995018</th>\n",
       "      <td>KS Collector's Bundle with a friend of mine</td>\n",
       "      <td>10</td>\n",
       "    </tr>\n",
       "    <tr>\n",
       "      <th>2995019</th>\n",
       "      <td>Belekokio Gerumo...</td>\n",
       "      <td>10</td>\n",
       "    </tr>\n",
       "    <tr>\n",
       "      <th>2995020</th>\n",
       "      <td>Excelente!! lo mejor que probé.</td>\n",
       "      <td>10</td>\n",
       "    </tr>\n",
       "    <tr>\n",
       "      <th>2995021</th>\n",
       "      <td>Turn based preview looks very promising. The g...</td>\n",
       "      <td>8</td>\n",
       "    </tr>\n",
       "    <tr>\n",
       "      <th>2995022</th>\n",
       "      <td>KS</td>\n",
       "      <td>8</td>\n",
       "    </tr>\n",
       "  </tbody>\n",
       "</table>\n",
       "<p>2995023 rows × 2 columns</p>\n",
       "</div>"
      ],
      "text/plain": [
       "                                                   Reviews  Rating\n",
       "0        Hands down my favorite new game of BGG CON 200...      10\n",
       "1        I tend to either love or easily tire of co-op ...      10\n",
       "2        This is an amazing co-op game.  I play mostly ...      10\n",
       "3        Hey! I can finally rate this game I've been pl...      10\n",
       "4        Love it- great fun with my son. 2 plays so far...      10\n",
       "...                                                    ...     ...\n",
       "2995018        KS Collector's Bundle with a friend of mine      10\n",
       "2995019                                Belekokio Gerumo...      10\n",
       "2995020                    Excelente!! lo mejor que probé.      10\n",
       "2995021  Turn based preview looks very promising. The g...       8\n",
       "2995022                                                 KS       8\n",
       "\n",
       "[2995023 rows x 2 columns]"
      ]
     },
     "execution_count": 5,
     "metadata": {},
     "output_type": "execute_result"
    }
   ],
   "source": [
    "import numpy as np\n",
    "#Round the ratings to the nearest integer\n",
    "newdf = dataset['Rating'].astype(np.int64)\n",
    "dataset['Rating'] = newdf\n",
    "#final dataset with pre-processed reviews\n",
    "dataset"
   ]
  },
  {
   "cell_type": "markdown",
   "metadata": {},
   "source": [
    "<h3> Splitting dataset into train and test </h3>\n",
    "<p>We split the dataset in the ratio 4:1 to get the training and the test dataset respectively</p>"
   ]
  },
  {
   "cell_type": "code",
   "execution_count": 6,
   "metadata": {},
   "outputs": [
    {
     "name": "stdout",
     "output_type": "stream",
     "text": [
      "training:  (2396018, 2)\n",
      "test:  (599005, 2)\n"
     ]
    }
   ],
   "source": [
    "import numpy as np\n",
    "\n",
    "train_df,test_df = np.split(dataset, [int(.8*len(dataset))])\n",
    "print(\"training: \",train_df.shape)\n",
    "print(\"test: \",test_df.shape)\n",
    "Y_train = train_df['Rating'].tolist() #ratings for the train dataset\n",
    "Y_test = test_df['Rating'].tolist() # ratings for the test dataset"
   ]
  },
  {
   "cell_type": "code",
   "execution_count": 12,
   "metadata": {},
   "outputs": [],
   "source": [
    "# from sklearn.feature_extraction.text import TfidfVectorizer\n",
    "# corpus = train_df['Reviews'].tolist()\n",
    "# vectorizer = TfidfVectorizer(analyzer = 'word',use_idf = True)\n",
    "# X = vectorizer.fit_transform(corpus)\n",
    "# print(vectorizer.get_feature_names())\n",
    "# print(X.shape)"
   ]
  },
  {
   "cell_type": "markdown",
   "metadata": {},
   "source": [
    "<h3>CREATING DOCUMENT MATRIX</h3>\n",
    "<p>In order to get a vocabulary of words with their frequencies we need to utilize sklearn's <a href = \"https://scikit-learn.org/stable/modules/generated/sklearn.feature_extraction.text.CountVectorizer.html\">CountVectorizer</a>. This gives us a dictionary of words with their corresponding frequencies in each document in vector form. We need the output in a matrix form in order to pass it as an input to our models. </p>\n",
    "<p>Here the max_features is set to 5000 to get a better accuracy and ignore the less frequent words</p>\n"
   ]
  },
  {
   "cell_type": "code",
   "execution_count": 25,
   "metadata": {},
   "outputs": [],
   "source": [
    "from sklearn.feature_extraction.text import CountVectorizer\n",
    "# Create an instance of CountfVectorizer\n",
    "vectoriser = CountVectorizer(max_features=5000) # max features is set to 5000 for better accuracy\n",
    "# Fit to the data and transform to feature matrix\n",
    "X_train = vectoriser.fit_transform(train_df['Reviews'])\n",
    "X_test = vectoriser.transform(test_df['Reviews'])"
   ]
  },
  {
   "cell_type": "markdown",
   "metadata": {},
   "source": [
    "<h4>This is the input of our model in matrix form.</h4>"
   ]
  },
  {
   "cell_type": "code",
   "execution_count": 8,
   "metadata": {},
   "outputs": [
    {
     "name": "stdout",
     "output_type": "stream",
     "text": [
      "  (0, 2033)\t1\n",
      "  (0, 1319)\t1\n",
      "  (0, 2916)\t1\n",
      "  (0, 1672)\t1\n",
      "  (0, 2972)\t1\n",
      "  (0, 1868)\t2\n",
      "  (0, 3059)\t3\n",
      "  (0, 500)\t1\n",
      "  (0, 916)\t1\n",
      "  (0, 37)\t1\n",
      "  (0, 4825)\t1\n",
      "  (0, 3297)\t1\n",
      "  (0, 2357)\t2\n",
      "  (0, 4480)\t1\n",
      "  (0, 2249)\t2\n",
      "  (0, 3755)\t1\n",
      "  (0, 2407)\t1\n",
      "  (0, 4395)\t1\n",
      "  (0, 1957)\t2\n",
      "  (0, 4508)\t1\n",
      "  (0, 419)\t1\n",
      "  (0, 3178)\t1\n",
      "  (0, 4905)\t1\n",
      "  (0, 450)\t2\n",
      "  (0, 4677)\t1\n",
      "  :\t:\n",
      "  (2396016, 3852)\t1\n",
      "  (2396016, 3630)\t1\n",
      "  (2396016, 2773)\t1\n",
      "  (2396017, 1868)\t2\n",
      "  (2396017, 3059)\t1\n",
      "  (2396017, 4395)\t1\n",
      "  (2396017, 4397)\t1\n",
      "  (2396017, 4970)\t1\n",
      "  (2396017, 1836)\t1\n",
      "  (2396017, 683)\t1\n",
      "  (2396017, 3561)\t2\n",
      "  (2396017, 100)\t1\n",
      "  (2396017, 4195)\t1\n",
      "  (2396017, 4410)\t1\n",
      "  (2396017, 4845)\t1\n",
      "  (2396017, 321)\t2\n",
      "  (2396017, 1384)\t1\n",
      "  (2396017, 810)\t1\n",
      "  (2396017, 3031)\t1\n",
      "  (2396017, 2026)\t1\n",
      "  (2396017, 680)\t1\n",
      "  (2396017, 3092)\t1\n",
      "  (2396017, 3966)\t1\n",
      "  (2396017, 2666)\t1\n",
      "  (2396017, 1771)\t1\n"
     ]
    }
   ],
   "source": [
    "print(X_train)"
   ]
  },
  {
   "cell_type": "markdown",
   "metadata": {},
   "source": [
    "<h3> NAIVE BAYES MODEL IMPLEMENTATION</h3>\n",
    "<p>This classifier has two probabilities: P(class) which is the probability an input will produce a certain class, and P(input_condition|class) is the probability an input feature has a certain value, given the class. Otherwise, default probability is 0. Multinomial Naïve bayes implements the naive Bayes algorithm for multinomially distributed data, and is one of the two classic naive Bayes variants used in text classification (where the data are typically represented as word vector counts</p>\n",
    "<p>The <a href = \"https://scikit-learn.org/stable/modules/generated/sklearn.naive_bayes.MultinomialNB.html\"> multinomial naive bayes model</a> provided by sklearn is implemented here. At first the model was executed with default alpha= 1. After performing hyperparameter tuning the alpha is updated to get the best accuracy 27.3%.</p>"
   ]
  },
  {
   "cell_type": "code",
   "execution_count": 26,
   "metadata": {},
   "outputs": [
    {
     "name": "stdout",
     "output_type": "stream",
     "text": [
      "                                                   Reviews  Rating  \\\n",
      "2396018  A small Knizia reworking of Knock Rummy, makin...       6   \n",
      "2396019  Card game trying to reduce your cards to minim...       6   \n",
      "2396020  2013-12-17  Initial Rating: 5.5 (December 2013...       5   \n",
      "2396021                                        3-5, best 4       5   \n",
      "2396022  A friend of mine loves this game, so I get suc...       5   \n",
      "...                                                    ...     ...   \n",
      "2995018        KS Collector's Bundle with a friend of mine      10   \n",
      "2995019                                Belekokio Gerumo...      10   \n",
      "2995020                    Excelente!! lo mejor que probé.      10   \n",
      "2995021  Turn based preview looks very promising. The g...       8   \n",
      "2995022                                                 KS       8   \n",
      "\n",
      "         Predictions  \n",
      "2396018            7  \n",
      "2396019            6  \n",
      "2396020            7  \n",
      "2396021            8  \n",
      "2396022            3  \n",
      "...              ...  \n",
      "2995018            8  \n",
      "2995019            7  \n",
      "2995020            8  \n",
      "2995021            9  \n",
      "2995022            8  \n",
      "\n",
      "[599005 rows x 3 columns]\n",
      "Accuracy of test data predictions:  27.301441557249106 %\n"
     ]
    }
   ],
   "source": [
    "from sklearn.naive_bayes import MultinomialNB\n",
    "clf = MultinomialNB(alpha = 1.0e-10)\n",
    "clf.fit(X_train, Y_train)\n",
    "\n",
    "Y_pred = clf.predict(X_test)#testing the predictions for test dataset once model has been trained\n",
    "test_df['Predictions'] = Y_pred\n",
    "print(test_df)\n",
    "accuracy = clf.score(X_test, np.array(Y_test))\n",
    "print(\"Accuracy of test data predictions: \",accuracy*100,\"%\")"
   ]
  },
  {
   "cell_type": "markdown",
   "metadata": {},
   "source": [
    "<h3>PERFORMANCE EVALUATION </h3>\n",
    "<p>For evaluation of the algorithm: accuracy and mean squared error is used as performance measure. Since this is a classification for 10 different classes, the accuracy can be low. So the mean squared error will give us idea how close to the original rating was our predicted rating.</p>"
   ]
  },
  {
   "cell_type": "code",
   "execution_count": 14,
   "metadata": {},
   "outputs": [
    {
     "name": "stdout",
     "output_type": "stream",
     "text": [
      "Accuracy: 27.301441557249106 %\n",
      "Mean Squared error: 3.6436256792514254\n"
     ]
    }
   ],
   "source": [
    "from sklearn.metrics import mean_squared_error\n",
    "from sklearn.metrics import accuracy_score\n",
    "import numpy as np\n",
    "Y_true = np.array(Y_test)\n",
    "mse = mean_squared_error(Y_true, Y_pred)\n",
    "print(\"Accuracy:\",accuracy_score(Y_true, Y_pred)*100,\"%\")\n",
    "print(\"Mean Squared error:\",mse)"
   ]
  },
  {
   "cell_type": "markdown",
   "metadata": {},
   "source": [
    "<h3> HYPERPARAMETER TUNING </h3>\n",
    "<p>Hyperparameter tuning is done on the smoothing parameter alpha for Multinomial Naive Bayes. The best accuracy obtained against the best alpha value is then used in training the final model.5 fold cross validation is performed and the best accuracy obtained can be seen as 30.9% for this model.For this process sklearn GridSearchCV method is used.</p>\n",
    "<p>Best results are obtained for alpha=0.0 but recommended alpha value is 1.0e-10 so that is used for training the algorithm</p>"
   ]
  },
  {
   "cell_type": "code",
   "execution_count": 16,
   "metadata": {},
   "outputs": [
    {
     "name": "stdout",
     "output_type": "stream",
     "text": [
      "Fitting 5 folds for each of 100 candidates, totalling 500 fits\n"
     ]
    },
    {
     "name": "stderr",
     "output_type": "stream",
     "text": [
      "[Parallel(n_jobs=3)]: Using backend LokyBackend with 3 concurrent workers.\n",
      "[Parallel(n_jobs=3)]: Done  12 tasks      | elapsed:   38.6s\n",
      "[Parallel(n_jobs=3)]: Done  66 tasks      | elapsed:  3.6min\n",
      "[Parallel(n_jobs=3)]: Done 156 tasks      | elapsed:  9.0min\n",
      "[Parallel(n_jobs=3)]: Done 282 tasks      | elapsed: 16.6min\n",
      "[Parallel(n_jobs=3)]: Done 444 tasks      | elapsed: 26.7min\n",
      "[Parallel(n_jobs=3)]: Done 500 out of 500 | elapsed: 30.2min finished\n",
      "D:\\Anaconda3\\lib\\site-packages\\sklearn\\naive_bayes.py:507: UserWarning: alpha too small will result in numeric errors, setting alpha = 1.0e-10\n",
      "  'setting alpha = %.1e' % _ALPHA_MIN)\n"
     ]
    },
    {
     "name": "stdout",
     "output_type": "stream",
     "text": [
      "Train Accuracy : 0.322\n",
      "Test Accuracy : 0.273\n",
      "Best Accuracy Through Grid Search : 0.309\n",
      "Best Parameters :  {'alpha': 0.0}\n"
     ]
    },
    {
     "data": {
      "text/html": [
       "<div>\n",
       "<style scoped>\n",
       "    .dataframe tbody tr th:only-of-type {\n",
       "        vertical-align: middle;\n",
       "    }\n",
       "\n",
       "    .dataframe tbody tr th {\n",
       "        vertical-align: top;\n",
       "    }\n",
       "\n",
       "    .dataframe thead th {\n",
       "        text-align: right;\n",
       "    }\n",
       "</style>\n",
       "<table border=\"1\" class=\"dataframe\">\n",
       "  <thead>\n",
       "    <tr style=\"text-align: right;\">\n",
       "      <th></th>\n",
       "      <th>alpha</th>\n",
       "      <th>test_score</th>\n",
       "    </tr>\n",
       "  </thead>\n",
       "  <tbody>\n",
       "    <tr>\n",
       "      <th>0</th>\n",
       "      <td>0.000000</td>\n",
       "      <td>0.308764</td>\n",
       "    </tr>\n",
       "    <tr>\n",
       "      <th>1</th>\n",
       "      <td>0.010101</td>\n",
       "      <td>0.308715</td>\n",
       "    </tr>\n",
       "    <tr>\n",
       "      <th>2</th>\n",
       "      <td>0.020202</td>\n",
       "      <td>0.308551</td>\n",
       "    </tr>\n",
       "    <tr>\n",
       "      <th>3</th>\n",
       "      <td>0.030303</td>\n",
       "      <td>0.308392</td>\n",
       "    </tr>\n",
       "    <tr>\n",
       "      <th>4</th>\n",
       "      <td>0.040404</td>\n",
       "      <td>0.308241</td>\n",
       "    </tr>\n",
       "    <tr>\n",
       "      <th>...</th>\n",
       "      <td>...</td>\n",
       "      <td>...</td>\n",
       "    </tr>\n",
       "    <tr>\n",
       "      <th>95</th>\n",
       "      <td>0.959596</td>\n",
       "      <td>0.307404</td>\n",
       "    </tr>\n",
       "    <tr>\n",
       "      <th>96</th>\n",
       "      <td>0.969697</td>\n",
       "      <td>0.307405</td>\n",
       "    </tr>\n",
       "    <tr>\n",
       "      <th>97</th>\n",
       "      <td>0.979798</td>\n",
       "      <td>0.307409</td>\n",
       "    </tr>\n",
       "    <tr>\n",
       "      <th>98</th>\n",
       "      <td>0.989899</td>\n",
       "      <td>0.307407</td>\n",
       "    </tr>\n",
       "    <tr>\n",
       "      <th>99</th>\n",
       "      <td>1.000000</td>\n",
       "      <td>0.307410</td>\n",
       "    </tr>\n",
       "  </tbody>\n",
       "</table>\n",
       "<p>100 rows × 2 columns</p>\n",
       "</div>"
      ],
      "text/plain": [
       "       alpha  test_score\n",
       "0   0.000000    0.308764\n",
       "1   0.010101    0.308715\n",
       "2   0.020202    0.308551\n",
       "3   0.030303    0.308392\n",
       "4   0.040404    0.308241\n",
       "..       ...         ...\n",
       "95  0.959596    0.307404\n",
       "96  0.969697    0.307405\n",
       "97  0.979798    0.307409\n",
       "98  0.989899    0.307407\n",
       "99  1.000000    0.307410\n",
       "\n",
       "[100 rows x 2 columns]"
      ]
     },
     "execution_count": 16,
     "metadata": {},
     "output_type": "execute_result"
    }
   ],
   "source": [
    "from sklearn.model_selection import GridSearchCV\n",
    "params = {'alpha': np.array(np.linspace(0,1,100))}\n",
    "multinomial_nb_grid = GridSearchCV(MultinomialNB(), param_grid=params, n_jobs=3, cv=5, verbose=5,scoring='accuracy')\n",
    "multinomial_nb_grid.fit(X_train, Y_train)\n",
    "print('Train Accuracy : %.3f'%multinomial_nb_grid.best_estimator_.score(X_train, Y_train))\n",
    "print('Test Accuracy : %.3f'%multinomial_nb_grid.best_estimator_.score(X_test, Y_true))\n",
    "print('Best Accuracy Through Grid Search : %.3f'%multinomial_nb_grid.best_score_)\n",
    "print('Best Parameters : ',multinomial_nb_grid.best_params_)\n",
    "results_NB = pd.DataFrame(multinomial_nb_grid.cv_results_['params'])\n",
    "results_NB['test_score'] = multinomial_nb_grid.cv_results_['mean_test_score']\n",
    "results_NB"
   ]
  },
  {
   "cell_type": "markdown",
   "metadata": {},
   "source": [
    "<h4>Hyperparameter tuning plot</h4>"
   ]
  },
  {
   "cell_type": "code",
   "execution_count": 17,
   "metadata": {},
   "outputs": [
    {
     "name": "stdout",
     "output_type": "stream",
     "text": [
      "(array([0], dtype=int64),)\n"
     ]
    }
   ],
   "source": [
    "#ind = params['alpha'].index(multinomial_nb_grid.best_params_['alpha'])\n",
    "ind = np.where(params['alpha'] == multinomial_nb_grid.best_params_['alpha'])\n",
    "print(ind)"
   ]
  },
  {
   "cell_type": "code",
   "execution_count": 20,
   "metadata": {},
   "outputs": [
    {
     "name": "stderr",
     "output_type": "stream",
     "text": [
      "No handles with labels found to put in legend.\n"
     ]
    },
    {
     "data": {
      "text/plain": [
       "<matplotlib.legend.Legend at 0x18207ba5708>"
      ]
     },
     "execution_count": 20,
     "metadata": {},
     "output_type": "execute_result"
    },
    {
     "data": {
      "image/png": "[encoded data removed]",
      "text/plain": [
       "<Figure size 1080x504 with 1 Axes>"
      ]
     },
     "metadata": {
      "needs_background": "light"
     },
     "output_type": "display_data"
    }
   ],
   "source": [
    "%matplotlib inline\n",
    "import matplotlib.pyplot as plt\n",
    "\n",
    "plt.rcParams[\"figure.figsize\"] = (15,7)\n",
    "\n",
    "fig, ax = plt.subplots(1) \n",
    "ax.plot(results_NB['alpha'], results_NB['test_score'],'ro-')\n",
    "ax.set_title('Hyperparameter Tuning')\n",
    "ax.set(xlabel='Alpha', ylabel='Accuracy')\n",
    "ax.set_xticks(ind)\n",
    "ax.set_xticklabels([\"Min\"])\n",
    "plt.legend(loc=\"upper right\")"
   ]
  },
  {
   "cell_type": "code",
   "execution_count": 22,
   "metadata": {},
   "outputs": [],
   "source": [
    "# from sklearn import svm\n",
    "# clf = svm.SVC()\n",
    "# clf.fit(X_train, train_df['Rating'])\n",
    "# accuracy = clf.score(X_test, y)\n",
    "# print(accuracy)"
   ]
  },
  {
   "cell_type": "markdown",
   "metadata": {},
   "source": [
    "<h3>Rating estimation for a sample review</h3>"
   ]
  },
  {
   "cell_type": "code",
   "execution_count": 28,
   "metadata": {},
   "outputs": [
    {
     "name": "stdin",
     "output_type": "stream",
     "text": [
      "Enter a review: worst game ever\n"
     ]
    },
    {
     "name": "stdout",
     "output_type": "stream",
     "text": [
      "The estimated rating is:  1\n",
      "[[0.00050085 0.34342433 0.14563466 0.08324017 0.05506273 0.05918964\n",
      "  0.06744299 0.07450879 0.06177034 0.04813668 0.06108883]]\n"
     ]
    }
   ],
   "source": [
    "review = input(\"Enter a review:\")\n",
    "X_test = vectoriser.transform([review])\n",
    "pred = clf.predict(X_test)\n",
    "print(\"The estimated rating is: \", str(pred[0]))\n",
    "print(clf.predict_proba(vectoriser.transform([review])))"
   ]
  },
  {
   "cell_type": "markdown",
   "metadata": {},
   "source": [
    "<h3>Training with the complete dataset</h3>\n",
    "<p>Now that we have a hyper parameter to get the best results the entire dataset is used to train the model to estimate ratings in the application for best results</p>"
   ]
  },
  {
   "cell_type": "code",
   "execution_count": 29,
   "metadata": {},
   "outputs": [],
   "source": [
    "X_train_final = vectoriser.fit_transform(dataset['Reviews'])"
   ]
  },
  {
   "cell_type": "code",
   "execution_count": 30,
   "metadata": {},
   "outputs": [
    {
     "data": {
      "text/plain": [
       "MultinomialNB(alpha=1e-10, class_prior=None, fit_prior=True)"
      ]
     },
     "execution_count": 30,
     "metadata": {},
     "output_type": "execute_result"
    }
   ],
   "source": [
    "clf = MultinomialNB(alpha = 1.0e-10)\n",
    "clf.fit(X_train_final, dataset['Rating'])"
   ]
  },
  {
   "cell_type": "markdown",
   "metadata": {},
   "source": [
    "<h3>Exporting vectorizer and model to use in deployment server</h3>\n",
    "<p>Pickle is used to save our model to be used externally. The mentioned files are used in pythonanywhere along with the deployed application.</p>"
   ]
  },
  {
   "cell_type": "code",
   "execution_count": 33,
   "metadata": {},
   "outputs": [],
   "source": [
    "import pickle\n",
    "pickle.dump(clf, open('D:/UTA/Fall-2020/DM/TermProject/NaiveBayesClassifier', 'wb'))\n",
    "with open('D:/UTA/Fall-2020/DM/TermProject/Vectorizer', 'wb') as fin:\n",
    "        pickle.dump(vectoriser, fin)"
   ]
  },
  {
   "cell_type": "markdown",
   "metadata": {},
   "source": [
    "<h3>Challenges faced</h3>\n",
    "\n",
    " - Due to large dataset model execution time was very high so could not implement SVM for the entire dataset. \n",
    " - Dataset had missing values, reduced the dataset size by removing rows with NaN reviews.\n",
    " - The pre-processing step was removed after it was observed that the accuracy is improved by 1% without pre-processing like lemmatization and stop words removal."
   ]
  },
  {
   "cell_type": "markdown",
   "metadata": {},
   "source": [
    "<h3>References</h3>\n",
    "\n",
    " - Sklearn documentation: [https://scikit-learn.org/stable/modules/generated/sklearn.feature_extraction.text.CountVectorizer.html](https://scikit-learn.org/stable/modules/generated/sklearn.feature_extraction.text.CountVectorizer.html)\n",
    " - [https://scikit-learn.org/stable/modules/generated/sklearn.naive_bayes.MultinomialNB.html](https://scikit-learn.org/stable/modules/generated/sklearn.naive_bayes.MultinomialNB.html)\n",
    " - [https://machinelearningmastery.com/save-load-machine-learning-models-python-scikit-learn/](https://machinelearningmastery.com/save-load-machine-learning-models-python-scikit-learn/)\n",
    "\n",
    "<p>I did not use any references for the model implementation. Just followed official documentation above and process followed in assignment 3.</p>"
   ]
  },
  {
   "cell_type": "markdown",
   "metadata": {},
   "source": [
    "<h3>Links</h3>\n",
    "\n",
    " - Blog post : https://pxm5568.uta.cloud/img/Maitreyee_02.html \n",
    " - Working model is deployed at: [http://pragnyam.pythonanywhere.com/](http://pragnyam.pythonanywhere.com/ )\n",
    " - Kaggle notebook link : [https://www.kaggle.com/pragnyashreem/reviewestimator-pm](https://www.kaggle.com/pragnyashreem/reviewestimator-pm)\n",
    " - GitHub link : [https://github.com/Pragnyashree/RatingEstimator](https://github.com/Pragnyashree/RatingEstimator)\n",
    " - Demo video : [https://youtu.be/GdFXHjkckNE](https://youtu.be/GdFXHjkckNE)\n",
    "  "
   ]
  },
  {
   "cell_type": "code",
   "execution_count": null,
   "metadata": {},
   "outputs": [],
   "source": []
  }
 ],
 "metadata": {
  "kernelspec": {
   "display_name": "Python 3",
   "language": "python",
   "name": "python3"
  },
  "language_info": {
   "codemirror_mode": {
    "name": "ipython",
    "version": 3
   },
   "file_extension": ".py",
   "mimetype": "text/x-python",
   "name": "python",
   "nbconvert_exporter": "python",
   "pygments_lexer": "ipython3",
   "version": "3.7.6"
  }
 },
 "nbformat": 4,
 "nbformat_minor": 4
}
